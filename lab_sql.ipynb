{
 "cells": [
  {
   "cell_type": "code",
   "execution_count": 1,
   "metadata": {},
   "outputs": [],
   "source": [
    "import pandas as pd\n",
    "from sqlalchemy import create_engine\n",
    "\n",
    "bd = \"sakila\"\n",
    "password = \"hari1234\"  # Asegúrate de reemplazar esto con tu contraseña real\n",
    "connection_string = 'mysql+pymysql://root:' + password + '@localhost/' + bd\n",
    "engine = create_engine(connection_string)"
   ]
  },
  {
   "cell_type": "code",
   "execution_count": 2,
   "metadata": {},
   "outputs": [],
   "source": [
    "def rentals_month(engine, month, year):\n",
    "    # Create a SQL query that retrieves rental data for the specified month and year\n",
    "    query = f\"\"\"\n",
    "        SELECT rental_id, rental_date, customer_id\n",
    "        FROM rental\n",
    "        WHERE MONTH(rental_date) = {month} AND YEAR(rental_date) = {year};\n",
    "    \"\"\"\n",
    "   \n",
    "    df = pd.read_sql(query, engine)\n",
    "    return df\n"
   ]
  },
  {
   "cell_type": "code",
   "execution_count": 3,
   "metadata": {},
   "outputs": [],
   "source": [
    "def rental_count_month(df, month, year):\n",
    "    # Group by customer_id and count the number of rentals for each customer\n",
    "    rental_counts = df.groupby('customer_id')['rental_id'].count().reset_index()\n",
    "    \n",
    "    # Rename the rental count column based on the month and year\n",
    "    rental_counts.rename(columns={'rental_id': f'rentals_{month:02}_{year}'}, inplace=True)\n",
    "    \n",
    "    return rental_counts\n"
   ]
  },
  {
   "cell_type": "code",
   "execution_count": 4,
   "metadata": {},
   "outputs": [],
   "source": [
    "def compare_rentals(df1, df2):\n",
    "    # Merge the two DataFrames on customer_id\n",
    "    merged_df = pd.merge(df1, df2, on='customer_id', how='outer', suffixes=('_1', '_2')).fillna(0)\n",
    "    \n",
    "    # Calculate the difference between rentals in the two months\n",
    "    merged_df['difference'] = merged_df.iloc[:, 1] - merged_df.iloc[:, 2]\n",
    "    \n",
    "    return merged_df\n"
   ]
  },
  {
   "cell_type": "code",
   "execution_count": 5,
   "metadata": {},
   "outputs": [
    {
     "name": "stdout",
     "output_type": "stream",
     "text": [
      "     customer_id  rentals_05_2005  rentals_06_2005  difference\n",
      "0              1              2.0              7.0        -5.0\n",
      "1              2              1.0              1.0         0.0\n",
      "2              3              2.0              4.0        -2.0\n",
      "3              4              0.0              6.0        -6.0\n",
      "4              5              3.0              5.0        -2.0\n",
      "..           ...              ...              ...         ...\n",
      "593          595              1.0              2.0        -1.0\n",
      "594          596              6.0              2.0         4.0\n",
      "595          597              2.0              3.0        -1.0\n",
      "596          598              0.0              1.0        -1.0\n",
      "597          599              1.0              4.0        -3.0\n",
      "\n",
      "[598 rows x 4 columns]\n"
     ]
    }
   ],
   "source": [
    "# Get rental data for May and June 2005\n",
    "may_rentals = rentals_month(engine, 5, 2005)\n",
    "june_rentals = rentals_month(engine, 6, 2005)\n",
    "\n",
    "# Count rentals for each customer in May and June\n",
    "may_counts = rental_count_month(may_rentals, 5, 2005)\n",
    "june_counts = rental_count_month(june_rentals, 6, 2005)\n",
    "\n",
    "# Compare the number of rentals between May and June\n",
    "comparison_df = compare_rentals(may_counts, june_counts)\n",
    "\n",
    "print(comparison_df)\n"
   ]
  }
 ],
 "metadata": {
  "kernelspec": {
   "display_name": "base",
   "language": "python",
   "name": "python3"
  },
  "language_info": {
   "codemirror_mode": {
    "name": "ipython",
    "version": 3
   },
   "file_extension": ".py",
   "mimetype": "text/x-python",
   "name": "python",
   "nbconvert_exporter": "python",
   "pygments_lexer": "ipython3",
   "version": "3.12.4"
  }
 },
 "nbformat": 4,
 "nbformat_minor": 2
}
